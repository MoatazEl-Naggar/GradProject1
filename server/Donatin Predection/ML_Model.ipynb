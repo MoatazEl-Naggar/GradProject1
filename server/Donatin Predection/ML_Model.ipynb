{
 "cells": [
  {
   "cell_type": "code",
   "execution_count": 1,
   "id": "303cfd48",
   "metadata": {},
   "outputs": [],
   "source": [
    "import pandas as pd\n",
    "import numpy as np\n",
    "import seaborn as sns\n",
    "import xgboost as xgb\n",
    "from sklearn.model_selection import train_test_split, GridSearchCV\n",
    "from sklearn.metrics import balanced_accuracy_score, roc_auc_score, make_scorer\n",
    "from sklearn.model_selection import GridSearchCV\n",
    "from sklearn.metrics import confusion_matrix, ConfusionMatrixDisplay\n",
    "from sklearn.preprocessing import StandardScaler \n",
    "import matplotlib.pyplot as plt\n",
    "from sklearn.metrics import roc_curve, auc\n",
    "import joblib"
   ]
  },
  {
   "cell_type": "markdown",
   "id": "47b53688",
   "metadata": {},
   "source": [
    "## Import the Data"
   ]
  },
  {
   "cell_type": "code",
   "execution_count": 2,
   "id": "1a3e04c0",
   "metadata": {},
   "outputs": [
    {
     "data": {
      "text/html": [
       "<div>\n",
       "<style scoped>\n",
       "    .dataframe tbody tr th:only-of-type {\n",
       "        vertical-align: middle;\n",
       "    }\n",
       "\n",
       "    .dataframe tbody tr th {\n",
       "        vertical-align: top;\n",
       "    }\n",
       "\n",
       "    .dataframe thead th {\n",
       "        text-align: right;\n",
       "    }\n",
       "</style>\n",
       "<table border=\"1\" class=\"dataframe\">\n",
       "  <thead>\n",
       "    <tr style=\"text-align: right;\">\n",
       "      <th></th>\n",
       "      <th>Recency (months)</th>\n",
       "      <th>Frequency (times)</th>\n",
       "      <th>Monetary (c.c. blood)</th>\n",
       "      <th>Time (months)</th>\n",
       "      <th>whether he/she donated blood in March 2007</th>\n",
       "    </tr>\n",
       "  </thead>\n",
       "  <tbody>\n",
       "    <tr>\n",
       "      <th>0</th>\n",
       "      <td>2</td>\n",
       "      <td>50</td>\n",
       "      <td>12500</td>\n",
       "      <td>98</td>\n",
       "      <td>1</td>\n",
       "    </tr>\n",
       "    <tr>\n",
       "      <th>1</th>\n",
       "      <td>0</td>\n",
       "      <td>13</td>\n",
       "      <td>3250</td>\n",
       "      <td>28</td>\n",
       "      <td>1</td>\n",
       "    </tr>\n",
       "    <tr>\n",
       "      <th>2</th>\n",
       "      <td>1</td>\n",
       "      <td>16</td>\n",
       "      <td>4000</td>\n",
       "      <td>35</td>\n",
       "      <td>1</td>\n",
       "    </tr>\n",
       "  </tbody>\n",
       "</table>\n",
       "</div>"
      ],
      "text/plain": [
       "   Recency (months)  Frequency (times)  Monetary (c.c. blood)  Time (months)  \\\n",
       "0                 2                 50                  12500             98   \n",
       "1                 0                 13                   3250             28   \n",
       "2                 1                 16                   4000             35   \n",
       "\n",
       "   whether he/she donated blood in March 2007  \n",
       "0                                           1  \n",
       "1                                           1  \n",
       "2                                           1  "
      ]
     },
     "execution_count": 2,
     "metadata": {},
     "output_type": "execute_result"
    }
   ],
   "source": [
    "data = pd.read_csv('transfusion.csv')\n",
    "data.head(3)"
   ]
  },
  {
   "cell_type": "markdown",
   "id": "552a0a69",
   "metadata": {},
   "source": [
    "## Data Preprocessing"
   ]
  },
  {
   "cell_type": "code",
   "execution_count": 3,
   "id": "3bc04ed7",
   "metadata": {},
   "outputs": [
    {
     "data": {
      "text/plain": [
       "(748, 5)"
      ]
     },
     "execution_count": 3,
     "metadata": {},
     "output_type": "execute_result"
    }
   ],
   "source": [
    "data.shape"
   ]
  },
  {
   "cell_type": "code",
   "execution_count": 4,
   "id": "1ed37f5d",
   "metadata": {},
   "outputs": [
    {
     "data": {
      "text/plain": [
       "Recency (months)                              0\n",
       "Frequency (times)                             0\n",
       "Monetary (c.c. blood)                         0\n",
       "Time (months)                                 0\n",
       "whether he/she donated blood in March 2007    0\n",
       "dtype: int64"
      ]
     },
     "execution_count": 4,
     "metadata": {},
     "output_type": "execute_result"
    }
   ],
   "source": [
    "data.isnull().sum()"
   ]
  },
  {
   "cell_type": "code",
   "execution_count": 5,
   "id": "363e35af",
   "metadata": {},
   "outputs": [
    {
     "data": {
      "text/plain": [
       "215"
      ]
     },
     "execution_count": 5,
     "metadata": {},
     "output_type": "execute_result"
    }
   ],
   "source": [
    "data.duplicated().sum()"
   ]
  },
  {
   "cell_type": "code",
   "execution_count": 6,
   "id": "a5bdd071",
   "metadata": {},
   "outputs": [],
   "source": [
    "data=data.drop_duplicates()"
   ]
  },
  {
   "cell_type": "code",
   "execution_count": 7,
   "id": "92bab83b",
   "metadata": {},
   "outputs": [
    {
     "name": "stdout",
     "output_type": "stream",
     "text": [
      "<class 'pandas.core.frame.DataFrame'>\n",
      "Int64Index: 533 entries, 0 to 747\n",
      "Data columns (total 5 columns):\n",
      " #   Column                                      Non-Null Count  Dtype\n",
      "---  ------                                      --------------  -----\n",
      " 0   Recency (months)                            533 non-null    int64\n",
      " 1   Frequency (times)                           533 non-null    int64\n",
      " 2   Monetary (c.c. blood)                       533 non-null    int64\n",
      " 3   Time (months)                               533 non-null    int64\n",
      " 4   whether he/she donated blood in March 2007  533 non-null    int64\n",
      "dtypes: int64(5)\n",
      "memory usage: 25.0 KB\n"
     ]
    }
   ],
   "source": [
    "data.info()"
   ]
  },
  {
   "cell_type": "code",
   "execution_count": 8,
   "id": "77cad997",
   "metadata": {},
   "outputs": [
    {
     "data": {
      "text/html": [
       "<div>\n",
       "<style scoped>\n",
       "    .dataframe tbody tr th:only-of-type {\n",
       "        vertical-align: middle;\n",
       "    }\n",
       "\n",
       "    .dataframe tbody tr th {\n",
       "        vertical-align: top;\n",
       "    }\n",
       "\n",
       "    .dataframe thead th {\n",
       "        text-align: right;\n",
       "    }\n",
       "</style>\n",
       "<table border=\"1\" class=\"dataframe\">\n",
       "  <thead>\n",
       "    <tr style=\"text-align: right;\">\n",
       "      <th></th>\n",
       "      <th>Recency (months)</th>\n",
       "      <th>Frequency (times)</th>\n",
       "      <th>Monetary (c.c. blood)</th>\n",
       "      <th>Time (months)</th>\n",
       "      <th>whether he/she donated blood in March 2007</th>\n",
       "    </tr>\n",
       "  </thead>\n",
       "  <tbody>\n",
       "    <tr>\n",
       "      <th>count</th>\n",
       "      <td>533.000000</td>\n",
       "      <td>533.000000</td>\n",
       "      <td>533.000000</td>\n",
       "      <td>533.000000</td>\n",
       "      <td>533.00000</td>\n",
       "    </tr>\n",
       "    <tr>\n",
       "      <th>mean</th>\n",
       "      <td>9.529081</td>\n",
       "      <td>6.990619</td>\n",
       "      <td>1747.654784</td>\n",
       "      <td>42.303940</td>\n",
       "      <td>0.27955</td>\n",
       "    </tr>\n",
       "    <tr>\n",
       "      <th>std</th>\n",
       "      <td>8.250860</td>\n",
       "      <td>6.265875</td>\n",
       "      <td>1566.468760</td>\n",
       "      <td>23.295291</td>\n",
       "      <td>0.44920</td>\n",
       "    </tr>\n",
       "    <tr>\n",
       "      <th>min</th>\n",
       "      <td>0.000000</td>\n",
       "      <td>1.000000</td>\n",
       "      <td>250.000000</td>\n",
       "      <td>2.000000</td>\n",
       "      <td>0.00000</td>\n",
       "    </tr>\n",
       "    <tr>\n",
       "      <th>25%</th>\n",
       "      <td>3.000000</td>\n",
       "      <td>3.000000</td>\n",
       "      <td>750.000000</td>\n",
       "      <td>26.000000</td>\n",
       "      <td>0.00000</td>\n",
       "    </tr>\n",
       "    <tr>\n",
       "      <th>50%</th>\n",
       "      <td>8.000000</td>\n",
       "      <td>5.000000</td>\n",
       "      <td>1250.000000</td>\n",
       "      <td>38.000000</td>\n",
       "      <td>0.00000</td>\n",
       "    </tr>\n",
       "    <tr>\n",
       "      <th>75%</th>\n",
       "      <td>14.000000</td>\n",
       "      <td>9.000000</td>\n",
       "      <td>2250.000000</td>\n",
       "      <td>58.000000</td>\n",
       "      <td>1.00000</td>\n",
       "    </tr>\n",
       "    <tr>\n",
       "      <th>max</th>\n",
       "      <td>74.000000</td>\n",
       "      <td>50.000000</td>\n",
       "      <td>12500.000000</td>\n",
       "      <td>98.000000</td>\n",
       "      <td>1.00000</td>\n",
       "    </tr>\n",
       "  </tbody>\n",
       "</table>\n",
       "</div>"
      ],
      "text/plain": [
       "       Recency (months)  Frequency (times)  Monetary (c.c. blood)  \\\n",
       "count        533.000000         533.000000             533.000000   \n",
       "mean           9.529081           6.990619            1747.654784   \n",
       "std            8.250860           6.265875            1566.468760   \n",
       "min            0.000000           1.000000             250.000000   \n",
       "25%            3.000000           3.000000             750.000000   \n",
       "50%            8.000000           5.000000            1250.000000   \n",
       "75%           14.000000           9.000000            2250.000000   \n",
       "max           74.000000          50.000000           12500.000000   \n",
       "\n",
       "       Time (months)  whether he/she donated blood in March 2007  \n",
       "count     533.000000                                   533.00000  \n",
       "mean       42.303940                                     0.27955  \n",
       "std        23.295291                                     0.44920  \n",
       "min         2.000000                                     0.00000  \n",
       "25%        26.000000                                     0.00000  \n",
       "50%        38.000000                                     0.00000  \n",
       "75%        58.000000                                     1.00000  \n",
       "max        98.000000                                     1.00000  "
      ]
     },
     "execution_count": 8,
     "metadata": {},
     "output_type": "execute_result"
    }
   ],
   "source": [
    "data.describe()"
   ]
  },
  {
   "cell_type": "code",
   "execution_count": 9,
   "id": "2d654d49",
   "metadata": {},
   "outputs": [
    {
     "data": {
      "image/png": "[encoded data removed]",
      "text/plain": [
       "<Figure size 432x288 with 2 Axes>"
      ]
     },
     "metadata": {
      "needs_background": "light"
     },
     "output_type": "display_data"
    }
   ],
   "source": [
    "sns.heatmap(data.corr(),cmap='viridis');"
   ]
  },
  {
   "cell_type": "code",
   "execution_count": 10,
   "id": "6c8f8936",
   "metadata": {},
   "outputs": [
    {
     "data": {
      "text/html": [
       "<div>\n",
       "<style scoped>\n",
       "    .dataframe tbody tr th:only-of-type {\n",
       "        vertical-align: middle;\n",
       "    }\n",
       "\n",
       "    .dataframe tbody tr th {\n",
       "        vertical-align: top;\n",
       "    }\n",
       "\n",
       "    .dataframe thead th {\n",
       "        text-align: right;\n",
       "    }\n",
       "</style>\n",
       "<table border=\"1\" class=\"dataframe\">\n",
       "  <thead>\n",
       "    <tr style=\"text-align: right;\">\n",
       "      <th></th>\n",
       "      <th>Recency_(months)</th>\n",
       "      <th>Frequency_(times)</th>\n",
       "      <th>Monetary_(c.c._blood)</th>\n",
       "      <th>Time_(months)</th>\n",
       "      <th>whether_he/she_donated_blood_in_March_2007</th>\n",
       "    </tr>\n",
       "  </thead>\n",
       "  <tbody>\n",
       "    <tr>\n",
       "      <th>0</th>\n",
       "      <td>2</td>\n",
       "      <td>50</td>\n",
       "      <td>12500</td>\n",
       "      <td>98</td>\n",
       "      <td>1</td>\n",
       "    </tr>\n",
       "    <tr>\n",
       "      <th>1</th>\n",
       "      <td>0</td>\n",
       "      <td>13</td>\n",
       "      <td>3250</td>\n",
       "      <td>28</td>\n",
       "      <td>1</td>\n",
       "    </tr>\n",
       "    <tr>\n",
       "      <th>2</th>\n",
       "      <td>1</td>\n",
       "      <td>16</td>\n",
       "      <td>4000</td>\n",
       "      <td>35</td>\n",
       "      <td>1</td>\n",
       "    </tr>\n",
       "  </tbody>\n",
       "</table>\n",
       "</div>"
      ],
      "text/plain": [
       "   Recency_(months)  Frequency_(times)  Monetary_(c.c._blood)  Time_(months)  \\\n",
       "0                 2                 50                  12500             98   \n",
       "1                 0                 13                   3250             28   \n",
       "2                 1                 16                   4000             35   \n",
       "\n",
       "   whether_he/she_donated_blood_in_March_2007  \n",
       "0                                           1  \n",
       "1                                           1  \n",
       "2                                           1  "
      ]
     },
     "execution_count": 10,
     "metadata": {},
     "output_type": "execute_result"
    }
   ],
   "source": [
    "data.columns = data.columns.str.replace(' ', '_')\n",
    "data.head(3)"
   ]
  },
  {
   "cell_type": "markdown",
   "id": "67c66c75",
   "metadata": {},
   "source": [
    "## Splitting Data"
   ]
  },
  {
   "cell_type": "code",
   "execution_count": 11,
   "id": "fc666e61",
   "metadata": {},
   "outputs": [
    {
     "data": {
      "text/html": [
       "<div>\n",
       "<style scoped>\n",
       "    .dataframe tbody tr th:only-of-type {\n",
       "        vertical-align: middle;\n",
       "    }\n",
       "\n",
       "    .dataframe tbody tr th {\n",
       "        vertical-align: top;\n",
       "    }\n",
       "\n",
       "    .dataframe thead th {\n",
       "        text-align: right;\n",
       "    }\n",
       "</style>\n",
       "<table border=\"1\" class=\"dataframe\">\n",
       "  <thead>\n",
       "    <tr style=\"text-align: right;\">\n",
       "      <th></th>\n",
       "      <th>Recency_(months)</th>\n",
       "      <th>Frequency_(times)</th>\n",
       "      <th>Monetary_(c.c._blood)</th>\n",
       "      <th>Time_(months)</th>\n",
       "    </tr>\n",
       "  </thead>\n",
       "  <tbody>\n",
       "    <tr>\n",
       "      <th>0</th>\n",
       "      <td>2</td>\n",
       "      <td>50</td>\n",
       "      <td>12500</td>\n",
       "      <td>98</td>\n",
       "    </tr>\n",
       "    <tr>\n",
       "      <th>1</th>\n",
       "      <td>0</td>\n",
       "      <td>13</td>\n",
       "      <td>3250</td>\n",
       "      <td>28</td>\n",
       "    </tr>\n",
       "    <tr>\n",
       "      <th>2</th>\n",
       "      <td>1</td>\n",
       "      <td>16</td>\n",
       "      <td>4000</td>\n",
       "      <td>35</td>\n",
       "    </tr>\n",
       "  </tbody>\n",
       "</table>\n",
       "</div>"
      ],
      "text/plain": [
       "   Recency_(months)  Frequency_(times)  Monetary_(c.c._blood)  Time_(months)\n",
       "0                 2                 50                  12500             98\n",
       "1                 0                 13                   3250             28\n",
       "2                 1                 16                   4000             35"
      ]
     },
     "execution_count": 11,
     "metadata": {},
     "output_type": "execute_result"
    }
   ],
   "source": [
    "X = data.drop('whether_he/she_donated_blood_in_March_2007', axis=1).copy()\n",
    "X.head(3)"
   ]
  },
  {
   "cell_type": "code",
   "execution_count": 12,
   "id": "61260eff",
   "metadata": {},
   "outputs": [
    {
     "data": {
      "text/plain": [
       "0    1\n",
       "1    1\n",
       "2    1\n",
       "Name: whether_he/she_donated_blood_in_March_2007, dtype: int64"
      ]
     },
     "execution_count": 12,
     "metadata": {},
     "output_type": "execute_result"
    }
   ],
   "source": [
    "y = data['whether_he/she_donated_blood_in_March_2007'].copy()\n",
    "y.head(3)"
   ]
  },
  {
   "cell_type": "code",
   "execution_count": 13,
   "id": "bfd2a9c2",
   "metadata": {},
   "outputs": [
    {
     "data": {
      "text/plain": [
       "array([1, 0], dtype=int64)"
      ]
     },
     "execution_count": 13,
     "metadata": {},
     "output_type": "execute_result"
    }
   ],
   "source": [
    "y.unique()"
   ]
  },
  {
   "cell_type": "markdown",
   "id": "e7aa9db5",
   "metadata": {},
   "source": [
    "## Build a Preliminary XGBoost Model"
   ]
  },
  {
   "cell_type": "markdown",
   "id": "90cec007",
   "metadata": {},
   "source": [
    "let's see if our dataset is balanced or imbalanced by dividing the number of people who donated in March 2007, where $y=1$ by the total number of people."
   ]
  },
  {
   "cell_type": "code",
   "execution_count": 14,
   "id": "e8a96294",
   "metadata": {},
   "outputs": [
    {
     "data": {
      "text/plain": [
       "0.2795497185741088"
      ]
     },
     "execution_count": 14,
     "metadata": {},
     "output_type": "execute_result"
    }
   ],
   "source": [
    "sum(y)/len(y)"
   ]
  },
  {
   "cell_type": "markdown",
   "id": "fc65e611",
   "metadata": {},
   "source": [
    "so we see that only **28%** of the people in the dataset donated in March 2007. Because of this, when we split the data into training and testing, we will split using stratification in order to maintain the same percentage of people who donated in March 2007 in both the **training** set and the **testing** set."
   ]
  },
  {
   "cell_type": "code",
   "execution_count": 15,
   "id": "5bf381d9",
   "metadata": {},
   "outputs": [],
   "source": [
    "X_train, X_test, y_train, y_test = train_test_split(X, y, random_state=42, stratify=y)"
   ]
  },
  {
   "cell_type": "markdown",
   "id": "4f021a4f",
   "metadata": {},
   "source": [
    "verifying that using **stratify** worked as expected"
   ]
  },
  {
   "cell_type": "code",
   "execution_count": 16,
   "id": "cf11cfa7",
   "metadata": {},
   "outputs": [
    {
     "data": {
      "text/plain": [
       "0.2807017543859649"
      ]
     },
     "execution_count": 16,
     "metadata": {},
     "output_type": "execute_result"
    }
   ],
   "source": [
    "sum(y_train)/len(y_train)"
   ]
  },
  {
   "cell_type": "code",
   "execution_count": 17,
   "id": "05925604",
   "metadata": {},
   "outputs": [
    {
     "data": {
      "text/plain": [
       "0.27611940298507465"
      ]
     },
     "execution_count": 17,
     "metadata": {},
     "output_type": "execute_result"
    }
   ],
   "source": [
    "sum(y_test)/len(y_test)"
   ]
  },
  {
   "cell_type": "code",
   "execution_count": 18,
   "id": "ceec6fcd",
   "metadata": {},
   "outputs": [
    {
     "data": {
      "text/plain": [
       "(399,)"
      ]
     },
     "execution_count": 18,
     "metadata": {},
     "output_type": "execute_result"
    }
   ],
   "source": [
    "y_train.shape"
   ]
  },
  {
   "cell_type": "code",
   "execution_count": 19,
   "id": "8a05c506",
   "metadata": {},
   "outputs": [
    {
     "data": {
      "text/plain": [
       "(134,)"
      ]
     },
     "execution_count": 19,
     "metadata": {},
     "output_type": "execute_result"
    }
   ],
   "source": [
    "y_test.shape"
   ]
  },
  {
   "cell_type": "code",
   "execution_count": 20,
   "id": "189b7209",
   "metadata": {},
   "outputs": [],
   "source": [
    "X_train = X_train.values\n",
    "X_test = X_test.values"
   ]
  },
  {
   "cell_type": "code",
   "execution_count": 21,
   "id": "b045fd38",
   "metadata": {},
   "outputs": [
    {
     "data": {
      "text/plain": [
       "array([[-0.73654055, -0.50058206, -0.50058206, -0.06971724],\n",
       "       [-0.73654055,  0.28762726,  0.28762726,  0.14625464],\n",
       "       [-0.04178953, -0.65822393, -0.65822393,  0.40542088],\n",
       "       ...,\n",
       "       [-1.01444095,  1.23347845,  1.23347845,  0.92375338],\n",
       "       [ 0.23611087, -0.50058206, -0.50058206,  0.7077815 ],\n",
       "       [-1.01444095,  1.39112032,  1.39112032,  1.65805774]])"
      ]
     },
     "execution_count": 21,
     "metadata": {},
     "output_type": "execute_result"
    }
   ],
   "source": [
    "std_scaler= StandardScaler()  \n",
    "X_train= std_scaler.fit_transform(X_train)  \n",
    "X_test= std_scaler.transform(X_test)  \n",
    "X_train"
   ]
  },
  {
   "cell_type": "code",
   "execution_count": 22,
   "id": "87512eac",
   "metadata": {},
   "outputs": [
    {
     "name": "stdout",
     "output_type": "stream",
     "text": [
      "[0]\tvalidation_0-auc:0.67275\n",
      "[1]\tvalidation_0-auc:0.65534\n",
      "[2]\tvalidation_0-auc:0.65060\n",
      "[3]\tvalidation_0-auc:0.66091\n",
      "[4]\tvalidation_0-auc:0.65436\n",
      "[5]\tvalidation_0-auc:0.65060\n",
      "[6]\tvalidation_0-auc:0.64656\n",
      "[7]\tvalidation_0-auc:0.65589\n",
      "[8]\tvalidation_0-auc:0.65770\n",
      "[9]\tvalidation_0-auc:0.65046\n",
      "[10]\tvalidation_0-auc:0.64475\n"
     ]
    },
    {
     "data": {
      "text/html": [
       "<style>#sk-container-id-1 {color: black;}#sk-container-id-1 pre{padding: 0;}#sk-container-id-1 div.sk-toggleable {background-color: white;}#sk-container-id-1 label.sk-toggleable__label {cursor: pointer;display: block;width: 100%;margin-bottom: 0;padding: 0.3em;box-sizing: border-box;text-align: center;}#sk-container-id-1 label.sk-toggleable__label-arrow:before {content: \"▸\";float: left;margin-right: 0.25em;color: #696969;}#sk-container-id-1 label.sk-toggleable__label-arrow:hover:before {color: black;}#sk-container-id-1 div.sk-estimator:hover label.sk-toggleable__label-arrow:before {color: black;}#sk-container-id-1 div.sk-toggleable__content {max-height: 0;max-width: 0;overflow: hidden;text-align: left;background-color: #f0f8ff;}#sk-container-id-1 div.sk-toggleable__content pre {margin: 0.2em;color: black;border-radius: 0.25em;background-color: #f0f8ff;}#sk-container-id-1 input.sk-toggleable__control:checked~div.sk-toggleable__content {max-height: 200px;max-width: 100%;overflow: auto;}#sk-container-id-1 input.sk-toggleable__control:checked~label.sk-toggleable__label-arrow:before {content: \"▾\";}#sk-container-id-1 div.sk-estimator input.sk-toggleable__control:checked~label.sk-toggleable__label {background-color: #d4ebff;}#sk-container-id-1 div.sk-label input.sk-toggleable__control:checked~label.sk-toggleable__label {background-color: #d4ebff;}#sk-container-id-1 input.sk-hidden--visually {border: 0;clip: rect(1px 1px 1px 1px);clip: rect(1px, 1px, 1px, 1px);height: 1px;margin: -1px;overflow: hidden;padding: 0;position: absolute;width: 1px;}#sk-container-id-1 div.sk-estimator {font-family: monospace;background-color: #f0f8ff;border: 1px dotted black;border-radius: 0.25em;box-sizing: border-box;margin-bottom: 0.5em;}#sk-container-id-1 div.sk-estimator:hover {background-color: #d4ebff;}#sk-container-id-1 div.sk-parallel-item::after {content: \"\";width: 100%;border-bottom: 1px solid gray;flex-grow: 1;}#sk-container-id-1 div.sk-label:hover label.sk-toggleable__label {background-color: #d4ebff;}#sk-container-id-1 div.sk-serial::before {content: \"\";position: absolute;border-left: 1px solid gray;box-sizing: border-box;top: 0;bottom: 0;left: 50%;z-index: 0;}#sk-container-id-1 div.sk-serial {display: flex;flex-direction: column;align-items: center;background-color: white;padding-right: 0.2em;padding-left: 0.2em;position: relative;}#sk-container-id-1 div.sk-item {position: relative;z-index: 1;}#sk-container-id-1 div.sk-parallel {display: flex;align-items: stretch;justify-content: center;background-color: white;position: relative;}#sk-container-id-1 div.sk-item::before, #sk-container-id-1 div.sk-parallel-item::before {content: \"\";position: absolute;border-left: 1px solid gray;box-sizing: border-box;top: 0;bottom: 0;left: 50%;z-index: -1;}#sk-container-id-1 div.sk-parallel-item {display: flex;flex-direction: column;z-index: 1;position: relative;background-color: white;}#sk-container-id-1 div.sk-parallel-item:first-child::after {align-self: flex-end;width: 50%;}#sk-container-id-1 div.sk-parallel-item:last-child::after {align-self: flex-start;width: 50%;}#sk-container-id-1 div.sk-parallel-item:only-child::after {width: 0;}#sk-container-id-1 div.sk-dashed-wrapped {border: 1px dashed gray;margin: 0 0.4em 0.5em 0.4em;box-sizing: border-box;padding-bottom: 0.4em;background-color: white;}#sk-container-id-1 div.sk-label label {font-family: monospace;font-weight: bold;display: inline-block;line-height: 1.2em;}#sk-container-id-1 div.sk-label-container {text-align: center;}#sk-container-id-1 div.sk-container {/* jupyter's `normalize.less` sets `[hidden] { display: none; }` but bootstrap.min.css set `[hidden] { display: none !important; }` so we also need the `!important` here to be able to override the default hidden behavior on the sphinx rendered scikit-learn.org. See: https://github.com/scikit-learn/scikit-learn/issues/21755 */display: inline-block !important;position: relative;}#sk-container-id-1 div.sk-text-repr-fallback {display: none;}</style><div id=\"sk-container-id-1\" class=\"sk-top-container\"><div class=\"sk-text-repr-fallback\"><pre>XGBClassifier(base_score=None, booster=None, callbacks=None,\n",
       "              colsample_bylevel=None, colsample_bynode=None,\n",
       "              colsample_bytree=None, early_stopping_rounds=10,\n",
       "              enable_categorical=False, eval_metric=&#x27;auc&#x27;, feature_types=None,\n",
       "              gamma=None, gpu_id=None, grow_policy=None, importance_type=None,\n",
       "              interaction_constraints=None, learning_rate=None, max_bin=None,\n",
       "              max_cat_threshold=None, max_cat_to_onehot=None,\n",
       "              max_delta_step=None, max_depth=None, max_leaves=None,\n",
       "              min_child_weight=None, missing=nan, monotone_constraints=None,\n",
       "              n_estimators=100, n_jobs=None, num_parallel_tree=None,\n",
       "              predictor=None, random_state=None, ...)</pre><b>In a Jupyter environment, please rerun this cell to show the HTML representation or trust the notebook. <br />On GitHub, the HTML representation is unable to render, please try loading this page with nbviewer.org.</b></div><div class=\"sk-container\" hidden><div class=\"sk-item\"><div class=\"sk-estimator sk-toggleable\"><input class=\"sk-toggleable__control sk-hidden--visually\" id=\"sk-estimator-id-1\" type=\"checkbox\" checked><label for=\"sk-estimator-id-1\" class=\"sk-toggleable__label sk-toggleable__label-arrow\">XGBClassifier</label><div class=\"sk-toggleable__content\"><pre>XGBClassifier(base_score=None, booster=None, callbacks=None,\n",
       "              colsample_bylevel=None, colsample_bynode=None,\n",
       "              colsample_bytree=None, early_stopping_rounds=10,\n",
       "              enable_categorical=False, eval_metric=&#x27;auc&#x27;, feature_types=None,\n",
       "              gamma=None, gpu_id=None, grow_policy=None, importance_type=None,\n",
       "              interaction_constraints=None, learning_rate=None, max_bin=None,\n",
       "              max_cat_threshold=None, max_cat_to_onehot=None,\n",
       "              max_delta_step=None, max_depth=None, max_leaves=None,\n",
       "              min_child_weight=None, missing=nan, monotone_constraints=None,\n",
       "              n_estimators=100, n_jobs=None, num_parallel_tree=None,\n",
       "              predictor=None, random_state=None, ...)</pre></div></div></div></div></div>"
      ],
      "text/plain": [
       "XGBClassifier(base_score=None, booster=None, callbacks=None,\n",
       "              colsample_bylevel=None, colsample_bynode=None,\n",
       "              colsample_bytree=None, early_stopping_rounds=10,\n",
       "              enable_categorical=False, eval_metric='auc', feature_types=None,\n",
       "              gamma=None, gpu_id=None, grow_policy=None, importance_type=None,\n",
       "              interaction_constraints=None, learning_rate=None, max_bin=None,\n",
       "              max_cat_threshold=None, max_cat_to_onehot=None,\n",
       "              max_delta_step=None, max_depth=None, max_leaves=None,\n",
       "              min_child_weight=None, missing=nan, monotone_constraints=None,\n",
       "              n_estimators=100, n_jobs=None, num_parallel_tree=None,\n",
       "              predictor=None, random_state=None, ...)"
      ]
     },
     "execution_count": 22,
     "metadata": {},
     "output_type": "execute_result"
    }
   ],
   "source": [
    "clf_xgb = xgb.XGBClassifier(objective = 'binary:logistic',\n",
    "                            early_stopping_rounds = 10,\n",
    "                            eval_metric = 'auc')\n",
    "clf_xgb.fit(X_train,\n",
    "            y_train,\n",
    "            verbose=1,\n",
    "            eval_set=[(X_test, y_test)])"
   ]
  },
  {
   "cell_type": "code",
   "execution_count": 23,
   "id": "16a74e35",
   "metadata": {},
   "outputs": [
    {
     "data": {
      "text/plain": [
       "<sklearn.metrics._plot.confusion_matrix.ConfusionMatrixDisplay at 0x2aef9b5cd60>"
      ]
     },
     "execution_count": 23,
     "metadata": {},
     "output_type": "execute_result"
    },
    {
     "data": {
      "image/png": "[encoded data removed]",
      "text/plain": [
       "<Figure size 432x288 with 2 Axes>"
      ]
     },
     "metadata": {
      "needs_background": "light"
     },
     "output_type": "display_data"
    }
   ],
   "source": [
    "ConfusionMatrixDisplay.from_estimator(clf_xgb, X_test, y_test, display_labels=[\"Did not donate\", \"Donated\"])"
   ]
  },
  {
   "cell_type": "markdown",
   "id": "4381408f",
   "metadata": {},
   "source": [
    "In the confusion matrix, we see that of the **97** people that **did not donate, 83 (85.56%)** were correctly classified. And of the **37** people that **donated, 8 (21.62%)** were correctly classified (Recall/Sensitivity) . So the **XGBoost** model was not awesome. Part of the problem is that our data is imbalanced, which we saw earlier and we see this in the confusion matrix with the top row showing **97** people that did not donate and the bottom row showing **37** people who did. Because in Emergency cases we want to reach people who donated, we would like to capture more of them.\n",
    "XGBoost has a parameter **scale_pos_weight**, that helps with imbalanced data."
   ]
  },
  {
   "cell_type": "code",
   "execution_count": 24,
   "id": "b1d87bba",
   "metadata": {},
   "outputs": [
    {
     "data": {
      "image/png": "[encoded data removed]",
      "text/plain": [
       "<Figure size 432x288 with 1 Axes>"
      ]
     },
     "metadata": {
      "needs_background": "light"
     },
     "output_type": "display_data"
    }
   ],
   "source": [
    "# Predict probabilities for test data\n",
    "y_scores = clf_xgb.predict_proba(X_test)[:, 1]\n",
    "\n",
    "# Calculate false positive rate, true positive rate, and thresholds\n",
    "fpr, tpr, thresholds = roc_curve(y_test, y_scores)\n",
    "\n",
    "# Calculate AUC (Area Under the Curve)\n",
    "roc_auc = auc(fpr, tpr)\n",
    "\n",
    "# Plot ROC curve\n",
    "plt.figure()\n",
    "plt.plot(fpr, tpr, label='ROC curve (area = %0.2f)' % roc_auc)\n",
    "plt.plot([0, 1], [0, 1], 'k--')\n",
    "plt.xlim([0.0, 1.0])\n",
    "plt.ylim([0.0, 1.05])\n",
    "plt.xlabel('False Positive Rate')\n",
    "plt.ylabel('True Positive Rate')\n",
    "plt.title('Receiver Operating Characteristic')\n",
    "plt.legend(loc=\"lower right\")\n",
    "plt.show()\n"
   ]
  },
  {
   "cell_type": "markdown",
   "id": "31e13f55",
   "metadata": {},
   "source": [
    "## Hyperparameters Tuning"
   ]
  },
  {
   "cell_type": "code",
   "execution_count": 25,
   "id": "69f366a4",
   "metadata": {},
   "outputs": [
    {
     "name": "stdout",
     "output_type": "stream",
     "text": [
      "{'gamma': 0.25, 'learning_rate': 0.1, 'max_depth': 3, 'reg_lambda': 1.0, 'scale_pos_weight': 3}\n"
     ]
    }
   ],
   "source": [
    "#round 1\n",
    "param_grid = {\n",
    "    'gamma': [0, 0.25, 1.0],\n",
    "    'learning_rate': [0.1, 0.01, 0.05],\n",
    "    'max_depth': [2, 3, 4],\n",
    "    'reg_lambda': [1.0, 10.0, 50.0],\n",
    "    'scale_pos_weight': [1, 3, 5]\n",
    "}\n",
    "\n",
    "optimal_params = GridSearchCV(\n",
    "    estimator = xgb.XGBClassifier(subsample=0.9,\n",
    "                                  colsample_bytree=0.5,\n",
    "                                  early_stopping_rounds=10,\n",
    "                                  eval_metric = 'auc'),\n",
    "    param_grid = param_grid,\n",
    "    scoring = 'roc_auc',\n",
    "    verbose=0,\n",
    "    n_jobs=-1,\n",
    "    cv=3)\n",
    "\n",
    "optimal_params.fit(X_train, \n",
    "                   y_train, \n",
    "                   eval_set=[(X_test, y_test)],\n",
    "                   verbose=False)\n",
    "print(optimal_params.best_params_)"
   ]
  },
  {
   "cell_type": "code",
   "execution_count": 26,
   "id": "8e003273",
   "metadata": {},
   "outputs": [
    {
     "name": "stdout",
     "output_type": "stream",
     "text": [
      "{'gamma': 0.1, 'learning_rate': 0.5, 'max_depth': 2, 'reg_lambda': 10, 'scale_pos_weight': 3}\n"
     ]
    }
   ],
   "source": [
    "#round 2\n",
    "param_grid = {\n",
    "    'gamma': [0, 0.1, 0.25],\n",
    "    'learning_rate': [0.1, 0.5, 0.8],\n",
    "    'max_depth': [1, 2, 3],\n",
    "    'reg_lambda': [1, 10, 100],\n",
    "    'scale_pos_weight': [3]\n",
    "}\n",
    "\n",
    "optimal_params = GridSearchCV(\n",
    "    estimator = xgb.XGBClassifier(subsample=0.9,\n",
    "                                  colsample_bytree=0.5,\n",
    "                                  early_stopping_rounds=10,\n",
    "                                  eval_metric = 'auc'),\n",
    "    param_grid = param_grid,\n",
    "    scoring = 'roc_auc',\n",
    "    verbose=0,\n",
    "    n_jobs=-1,\n",
    "    cv=3)\n",
    "\n",
    "optimal_params.fit(X_train, \n",
    "                   y_train, \n",
    "                   eval_set=[(X_test, y_test)],\n",
    "                   verbose=False)\n",
    "print(optimal_params.best_params_)"
   ]
  },
  {
   "cell_type": "markdown",
   "id": "92388d11",
   "metadata": {},
   "source": [
    "## Building Model with tuned parameters"
   ]
  },
  {
   "cell_type": "code",
   "execution_count": 27,
   "id": "83bdc450",
   "metadata": {},
   "outputs": [
    {
     "name": "stdout",
     "output_type": "stream",
     "text": [
      "[0]\tvalidation_0-auc:0.67233\n",
      "[1]\tvalidation_0-auc:0.70465\n",
      "[2]\tvalidation_0-auc:0.69657\n",
      "[3]\tvalidation_0-auc:0.68794\n",
      "[4]\tvalidation_0-auc:0.72193\n",
      "[5]\tvalidation_0-auc:0.73558\n",
      "[6]\tvalidation_0-auc:0.73196\n",
      "[7]\tvalidation_0-auc:0.72889\n",
      "[8]\tvalidation_0-auc:0.72611\n",
      "[9]\tvalidation_0-auc:0.72917\n",
      "[10]\tvalidation_0-auc:0.73112\n",
      "[11]\tvalidation_0-auc:0.73126\n",
      "[12]\tvalidation_0-auc:0.73697\n",
      "[13]\tvalidation_0-auc:0.73084\n",
      "[14]\tvalidation_0-auc:0.73224\n",
      "[15]\tvalidation_0-auc:0.73335\n",
      "[16]\tvalidation_0-auc:0.73642\n",
      "[17]\tvalidation_0-auc:0.73461\n",
      "[18]\tvalidation_0-auc:0.73572\n",
      "[19]\tvalidation_0-auc:0.73628\n",
      "[20]\tvalidation_0-auc:0.73711\n",
      "[21]\tvalidation_0-auc:0.73614\n",
      "[22]\tvalidation_0-auc:0.73419\n",
      "[23]\tvalidation_0-auc:0.73558\n",
      "[24]\tvalidation_0-auc:0.73447\n",
      "[25]\tvalidation_0-auc:0.73739\n",
      "[26]\tvalidation_0-auc:0.73628\n",
      "[27]\tvalidation_0-auc:0.73711\n",
      "[28]\tvalidation_0-auc:0.73544\n",
      "[29]\tvalidation_0-auc:0.73572\n",
      "[30]\tvalidation_0-auc:0.73572\n",
      "[31]\tvalidation_0-auc:0.73572\n",
      "[32]\tvalidation_0-auc:0.73823\n",
      "[33]\tvalidation_0-auc:0.73879\n",
      "[34]\tvalidation_0-auc:0.73767\n",
      "[35]\tvalidation_0-auc:0.73656\n",
      "[36]\tvalidation_0-auc:0.73307\n",
      "[37]\tvalidation_0-auc:0.73391\n",
      "[38]\tvalidation_0-auc:0.72917\n",
      "[39]\tvalidation_0-auc:0.72917\n",
      "[40]\tvalidation_0-auc:0.72708\n",
      "[41]\tvalidation_0-auc:0.72736\n",
      "[42]\tvalidation_0-auc:0.72764\n"
     ]
    },
    {
     "data": {
      "text/html": [
       "<style>#sk-container-id-2 {color: black;}#sk-container-id-2 pre{padding: 0;}#sk-container-id-2 div.sk-toggleable {background-color: white;}#sk-container-id-2 label.sk-toggleable__label {cursor: pointer;display: block;width: 100%;margin-bottom: 0;padding: 0.3em;box-sizing: border-box;text-align: center;}#sk-container-id-2 label.sk-toggleable__label-arrow:before {content: \"▸\";float: left;margin-right: 0.25em;color: #696969;}#sk-container-id-2 label.sk-toggleable__label-arrow:hover:before {color: black;}#sk-container-id-2 div.sk-estimator:hover label.sk-toggleable__label-arrow:before {color: black;}#sk-container-id-2 div.sk-toggleable__content {max-height: 0;max-width: 0;overflow: hidden;text-align: left;background-color: #f0f8ff;}#sk-container-id-2 div.sk-toggleable__content pre {margin: 0.2em;color: black;border-radius: 0.25em;background-color: #f0f8ff;}#sk-container-id-2 input.sk-toggleable__control:checked~div.sk-toggleable__content {max-height: 200px;max-width: 100%;overflow: auto;}#sk-container-id-2 input.sk-toggleable__control:checked~label.sk-toggleable__label-arrow:before {content: \"▾\";}#sk-container-id-2 div.sk-estimator input.sk-toggleable__control:checked~label.sk-toggleable__label {background-color: #d4ebff;}#sk-container-id-2 div.sk-label input.sk-toggleable__control:checked~label.sk-toggleable__label {background-color: #d4ebff;}#sk-container-id-2 input.sk-hidden--visually {border: 0;clip: rect(1px 1px 1px 1px);clip: rect(1px, 1px, 1px, 1px);height: 1px;margin: -1px;overflow: hidden;padding: 0;position: absolute;width: 1px;}#sk-container-id-2 div.sk-estimator {font-family: monospace;background-color: #f0f8ff;border: 1px dotted black;border-radius: 0.25em;box-sizing: border-box;margin-bottom: 0.5em;}#sk-container-id-2 div.sk-estimator:hover {background-color: #d4ebff;}#sk-container-id-2 div.sk-parallel-item::after {content: \"\";width: 100%;border-bottom: 1px solid gray;flex-grow: 1;}#sk-container-id-2 div.sk-label:hover label.sk-toggleable__label {background-color: #d4ebff;}#sk-container-id-2 div.sk-serial::before {content: \"\";position: absolute;border-left: 1px solid gray;box-sizing: border-box;top: 0;bottom: 0;left: 50%;z-index: 0;}#sk-container-id-2 div.sk-serial {display: flex;flex-direction: column;align-items: center;background-color: white;padding-right: 0.2em;padding-left: 0.2em;position: relative;}#sk-container-id-2 div.sk-item {position: relative;z-index: 1;}#sk-container-id-2 div.sk-parallel {display: flex;align-items: stretch;justify-content: center;background-color: white;position: relative;}#sk-container-id-2 div.sk-item::before, #sk-container-id-2 div.sk-parallel-item::before {content: \"\";position: absolute;border-left: 1px solid gray;box-sizing: border-box;top: 0;bottom: 0;left: 50%;z-index: -1;}#sk-container-id-2 div.sk-parallel-item {display: flex;flex-direction: column;z-index: 1;position: relative;background-color: white;}#sk-container-id-2 div.sk-parallel-item:first-child::after {align-self: flex-end;width: 50%;}#sk-container-id-2 div.sk-parallel-item:last-child::after {align-self: flex-start;width: 50%;}#sk-container-id-2 div.sk-parallel-item:only-child::after {width: 0;}#sk-container-id-2 div.sk-dashed-wrapped {border: 1px dashed gray;margin: 0 0.4em 0.5em 0.4em;box-sizing: border-box;padding-bottom: 0.4em;background-color: white;}#sk-container-id-2 div.sk-label label {font-family: monospace;font-weight: bold;display: inline-block;line-height: 1.2em;}#sk-container-id-2 div.sk-label-container {text-align: center;}#sk-container-id-2 div.sk-container {/* jupyter's `normalize.less` sets `[hidden] { display: none; }` but bootstrap.min.css set `[hidden] { display: none !important; }` so we also need the `!important` here to be able to override the default hidden behavior on the sphinx rendered scikit-learn.org. See: https://github.com/scikit-learn/scikit-learn/issues/21755 */display: inline-block !important;position: relative;}#sk-container-id-2 div.sk-text-repr-fallback {display: none;}</style><div id=\"sk-container-id-2\" class=\"sk-top-container\"><div class=\"sk-text-repr-fallback\"><pre>XGBClassifier(base_score=None, booster=None, callbacks=None,\n",
       "              colsample_bylevel=None, colsample_bynode=None,\n",
       "              colsample_bytree=0.5, early_stopping_rounds=10,\n",
       "              enable_categorical=False, eval_metric=&#x27;auc&#x27;, feature_types=None,\n",
       "              gamma=0.25, gpu_id=None, grow_policy=None, importance_type=None,\n",
       "              interaction_constraints=None, learning_rate=0.8, max_bin=None,\n",
       "              max_cat_threshold=None, max_cat_to_onehot=None,\n",
       "              max_delta_step=None, max_depth=2, max_leaves=None,\n",
       "              min_child_weight=None, missing=nan, monotone_constraints=None,\n",
       "              n_estimators=100, n_jobs=None, num_parallel_tree=None,\n",
       "              predictor=None, random_state=42, ...)</pre><b>In a Jupyter environment, please rerun this cell to show the HTML representation or trust the notebook. <br />On GitHub, the HTML representation is unable to render, please try loading this page with nbviewer.org.</b></div><div class=\"sk-container\" hidden><div class=\"sk-item\"><div class=\"sk-estimator sk-toggleable\"><input class=\"sk-toggleable__control sk-hidden--visually\" id=\"sk-estimator-id-2\" type=\"checkbox\" checked><label for=\"sk-estimator-id-2\" class=\"sk-toggleable__label sk-toggleable__label-arrow\">XGBClassifier</label><div class=\"sk-toggleable__content\"><pre>XGBClassifier(base_score=None, booster=None, callbacks=None,\n",
       "              colsample_bylevel=None, colsample_bynode=None,\n",
       "              colsample_bytree=0.5, early_stopping_rounds=10,\n",
       "              enable_categorical=False, eval_metric=&#x27;auc&#x27;, feature_types=None,\n",
       "              gamma=0.25, gpu_id=None, grow_policy=None, importance_type=None,\n",
       "              interaction_constraints=None, learning_rate=0.8, max_bin=None,\n",
       "              max_cat_threshold=None, max_cat_to_onehot=None,\n",
       "              max_delta_step=None, max_depth=2, max_leaves=None,\n",
       "              min_child_weight=None, missing=nan, monotone_constraints=None,\n",
       "              n_estimators=100, n_jobs=None, num_parallel_tree=None,\n",
       "              predictor=None, random_state=42, ...)</pre></div></div></div></div></div>"
      ],
      "text/plain": [
       "XGBClassifier(base_score=None, booster=None, callbacks=None,\n",
       "              colsample_bylevel=None, colsample_bynode=None,\n",
       "              colsample_bytree=0.5, early_stopping_rounds=10,\n",
       "              enable_categorical=False, eval_metric='auc', feature_types=None,\n",
       "              gamma=0.25, gpu_id=None, grow_policy=None, importance_type=None,\n",
       "              interaction_constraints=None, learning_rate=0.8, max_bin=None,\n",
       "              max_cat_threshold=None, max_cat_to_onehot=None,\n",
       "              max_delta_step=None, max_depth=2, max_leaves=None,\n",
       "              min_child_weight=None, missing=nan, monotone_constraints=None,\n",
       "              n_estimators=100, n_jobs=None, num_parallel_tree=None,\n",
       "              predictor=None, random_state=42, ...)"
      ]
     },
     "execution_count": 27,
     "metadata": {},
     "output_type": "execute_result"
    }
   ],
   "source": [
    "clf_xgb = xgb.XGBClassifier(objective = 'binary:logistic',\n",
    "                            gamma=0.25,\n",
    "                            learning_rate = 0.8,\n",
    "                            max_depth = 2,\n",
    "                            reg_lambda = 100,\n",
    "                            scale_pos_weight = 3,\n",
    "                            subsample = 0.9,\n",
    "                            colsample_bytree=0.5,\n",
    "                            early_stopping_rounds=10,\n",
    "                            eval_metric='auc',\n",
    "                            random_state=42)\n",
    "\n",
    "clf_xgb.fit(X_train,\n",
    "            y_train,\n",
    "            verbose=1,\n",
    "            eval_set=[(X_test, y_test)])"
   ]
  },
  {
   "cell_type": "code",
   "execution_count": 28,
   "id": "041457b7",
   "metadata": {},
   "outputs": [
    {
     "data": {
      "text/plain": [
       "<sklearn.metrics._plot.confusion_matrix.ConfusionMatrixDisplay at 0x2aef9e60ee0>"
      ]
     },
     "execution_count": 28,
     "metadata": {},
     "output_type": "execute_result"
    },
    {
     "data": {
      "image/png": "[encoded data removed]",
      "text/plain": [
       "<Figure size 432x288 with 2 Axes>"
      ]
     },
     "metadata": {
      "needs_background": "light"
     },
     "output_type": "display_data"
    }
   ],
   "source": [
    "ConfusionMatrixDisplay.from_estimator(clf_xgb, X_test, y_test, display_labels=[\"Did not donate\", \"Donated\"])"
   ]
  },
  {
   "cell_type": "markdown",
   "id": "ab9e0287",
   "metadata": {},
   "source": [
    "Optimized **XGBoost** model is a lot better at identifying donated people. Of the **37** people that donated, **29(78.38%)** were correctly identified. Before optimization, we only correctly identified **8(21.62%)**.\n",
    "However, this improvement was at the expense of not being able to correctly classify as many as people that did not donate.\n",
    "Before optimization. we correctly identidied **83(85.56%)** people that did not donate. Now we only correctly classify **60(61.86%)**. That said, this trade off may be better for hospitals and blood banks so that in emergency cases they could call the donated people immediatly."
   ]
  },
  {
   "cell_type": "code",
   "execution_count": 29,
   "id": "465a83a5",
   "metadata": {},
   "outputs": [
    {
     "data": {
      "image/png": "[encoded data removed]",
      "text/plain": [
       "<Figure size 432x288 with 1 Axes>"
      ]
     },
     "metadata": {
      "needs_background": "light"
     },
     "output_type": "display_data"
    }
   ],
   "source": [
    "# Predict probabilities for test data\n",
    "y_scores = clf_xgb.predict_proba(X_test)[:, 1]\n",
    "\n",
    "# Calculate false positive rate, true positive rate, and thresholds\n",
    "fpr, tpr, thresholds = roc_curve(y_test, y_scores)\n",
    "\n",
    "# Calculate AUC (Area Under the Curve)\n",
    "roc_auc = auc(fpr, tpr)\n",
    "\n",
    "# Plot ROC curve\n",
    "plt.figure()\n",
    "plt.plot(fpr, tpr, label='ROC curve (area = %0.2f)' % roc_auc)\n",
    "plt.plot([0, 1], [0, 1], 'k--')\n",
    "plt.xlim([0.0, 1.0])\n",
    "plt.ylim([0.0, 1.0])\n",
    "plt.xlabel('False Positive Rate')\n",
    "plt.ylabel('True Positive Rate')\n",
    "plt.title('Receiver Operating Characteristic')\n",
    "plt.legend(loc=\"lower right\")\n",
    "plt.show()"
   ]
  },
  {
   "cell_type": "markdown",
   "id": "48918f92",
   "metadata": {},
   "source": [
    "## Drawing first tree"
   ]
  },
  {
   "cell_type": "code",
   "execution_count": 30,
   "id": "733f7ebf",
   "metadata": {},
   "outputs": [
    {
     "name": "stdout",
     "output_type": "stream",
     "text": [
      "weight:  {'f0': 2.0, 'f1': 1.0}\n",
      "gain:  {'f0': 14.09770393371582, 'f1': 0.940150260925293}\n",
      "cover:  {'f0': 109.375, 'f1': 63.75}\n",
      "total_gain:  {'f0': 28.19540786743164, 'f1': 0.940150260925293}\n",
      "total_cover:  {'f0': 218.75, 'f1': 63.75}\n"
     ]
    },
    {
     "data": {
      "image/svg+xml": [
       "<?xml version=\"1.0\" encoding=\"UTF-8\" standalone=\"no\"?>\n",
       "<!DOCTYPE svg PUBLIC \"-//W3C//DTD SVG 1.1//EN\"\n",
       " \"http://www.w3.org/Graphics/SVG/1.1/DTD/svg11.dtd\">\n",
       "<!-- Generated by graphviz version 8.0.5 (20230430.1635)\n",
       " -->\n",
       "<!-- Pages: 1 -->\n",
       "<svg width=\"551pt\" height=\"220pt\"\n",
       " viewBox=\"0.00 0.00 551.25 219.50\" xmlns=\"http://www.w3.org/2000/svg\" xmlns:xlink=\"http://www.w3.org/1999/xlink\">\n",
       "<g id=\"graph0\" class=\"graph\" transform=\"scale(1 1) rotate(0) translate(4 215.5)\">\n",
       "<polygon fill=\"white\" stroke=\"none\" points=\"-4,4 -4,-215.5 547.25,-215.5 547.25,4 -4,4\"/>\n",
       "<!-- 0 -->\n",
       "<g id=\"node1\" class=\"node\">\n",
       "<title>0</title>\n",
       "<path fill=\"#78cb0e\" stroke=\"black\" d=\"M319.12,-211.5C319.12,-211.5 231.88,-211.5 231.88,-211.5 225.88,-211.5 219.88,-205.5 219.88,-199.5 219.88,-199.5 219.88,-187.5 219.88,-187.5 219.88,-181.5 225.88,-175.5 231.88,-175.5 231.88,-175.5 319.12,-175.5 319.12,-175.5 325.12,-175.5 331.12,-181.5 331.12,-187.5 331.12,-187.5 331.12,-199.5 331.12,-199.5 331.12,-205.5 325.12,-211.5 319.12,-211.5\"/>\n",
       "<text text-anchor=\"middle\" x=\"275.5\" y=\"-188.07\" font-family=\"Times New Roman,serif\" font-size=\"14.00\">f0&lt;&#45;0.389165044</text>\n",
       "</g>\n",
       "<!-- 1 -->\n",
       "<g id=\"node2\" class=\"node\">\n",
       "<title>1</title>\n",
       "<path fill=\"#78cb0e\" stroke=\"black\" d=\"M248.75,-123.75C248.75,-123.75 168.25,-123.75 168.25,-123.75 162.25,-123.75 156.25,-117.75 156.25,-111.75 156.25,-111.75 156.25,-99.75 156.25,-99.75 156.25,-93.75 162.25,-87.75 168.25,-87.75 168.25,-87.75 248.75,-87.75 248.75,-87.75 254.75,-87.75 260.75,-93.75 260.75,-99.75 260.75,-99.75 260.75,-111.75 260.75,-111.75 260.75,-117.75 254.75,-123.75 248.75,-123.75\"/>\n",
       "<text text-anchor=\"middle\" x=\"208.5\" y=\"-100.33\" font-family=\"Times New Roman,serif\" font-size=\"14.00\">f0&lt;&#45;1.08391595</text>\n",
       "</g>\n",
       "<!-- 0&#45;&gt;1 -->\n",
       "<g id=\"edge1\" class=\"edge\">\n",
       "<title>0&#45;&gt;1</title>\n",
       "<path fill=\"none\" stroke=\"#0000ff\" d=\"M257.97,-175.23C252.7,-169.74 247.06,-163.53 242.25,-157.5 236.18,-149.89 230.11,-141.2 224.83,-133.18\"/>\n",
       "<polygon fill=\"#0000ff\" stroke=\"#0000ff\" points=\"227.4,-131.7 219.04,-125.18 221.51,-135.49 227.4,-131.7\"/>\n",
       "<text text-anchor=\"middle\" x=\"276.62\" y=\"-144.2\" font-family=\"Times New Roman,serif\" font-size=\"14.00\">yes, missing</text>\n",
       "</g>\n",
       "<!-- 2 -->\n",
       "<g id=\"node3\" class=\"node\">\n",
       "<title>2</title>\n",
       "<path fill=\"#78cb0e\" stroke=\"black\" d=\"M388.12,-123.75C388.12,-123.75 300.88,-123.75 300.88,-123.75 294.88,-123.75 288.88,-117.75 288.88,-111.75 288.88,-111.75 288.88,-99.75 288.88,-99.75 288.88,-93.75 294.88,-87.75 300.88,-87.75 300.88,-87.75 388.12,-87.75 388.12,-87.75 394.12,-87.75 400.12,-93.75 400.12,-99.75 400.12,-99.75 400.12,-111.75 400.12,-111.75 400.12,-117.75 394.12,-123.75 388.12,-123.75\"/>\n",
       "<text text-anchor=\"middle\" x=\"344.5\" y=\"-100.33\" font-family=\"Times New Roman,serif\" font-size=\"14.00\">f1&lt;&#45;0.894686699</text>\n",
       "</g>\n",
       "<!-- 0&#45;&gt;2 -->\n",
       "<g id=\"edge2\" class=\"edge\">\n",
       "<title>0&#45;&gt;2</title>\n",
       "<path fill=\"none\" stroke=\"#ff0000\" d=\"M294.01,-175.33C299.55,-169.85 305.48,-163.61 310.5,-157.5 316.79,-149.84 323.02,-141.02 328.39,-132.89\"/>\n",
       "<polygon fill=\"#ff0000\" stroke=\"#ff0000\" points=\"331.78,-135.09 334.26,-124.79 325.9,-131.3 331.78,-135.09\"/>\n",
       "<text text-anchor=\"middle\" x=\"329.62\" y=\"-144.2\" font-family=\"Times New Roman,serif\" font-size=\"14.00\">no</text>\n",
       "</g>\n",
       "<!-- 3 -->\n",
       "<g id=\"node4\" class=\"node\">\n",
       "<title>3</title>\n",
       "<polygon fill=\"#e48038\" stroke=\"black\" points=\"133,-36 0,-36 0,0 133,0 133,-36\"/>\n",
       "<text text-anchor=\"middle\" x=\"66.5\" y=\"-12.57\" font-family=\"Times New Roman,serif\" font-size=\"14.00\">leaf=&#45;0.00381861604</text>\n",
       "</g>\n",
       "<!-- 1&#45;&gt;3 -->\n",
       "<g id=\"edge3\" class=\"edge\">\n",
       "<title>1&#45;&gt;3</title>\n",
       "<path fill=\"none\" stroke=\"#0000ff\" d=\"M169.21,-87.28C158.33,-82.02 146.65,-75.98 136.25,-69.75 122.84,-61.71 108.77,-51.79 96.81,-42.86\"/>\n",
       "<polygon fill=\"#0000ff\" stroke=\"#0000ff\" points=\"99.2,-39.52 89.11,-36.27 94.97,-45.1 99.2,-39.52\"/>\n",
       "<text text-anchor=\"middle\" x=\"170.62\" y=\"-56.45\" font-family=\"Times New Roman,serif\" font-size=\"14.00\">yes, missing</text>\n",
       "</g>\n",
       "<!-- 4 -->\n",
       "<g id=\"node5\" class=\"node\">\n",
       "<title>4</title>\n",
       "<polygon fill=\"#e48038\" stroke=\"black\" points=\"266,-36 151,-36 151,0 266,0 266,-36\"/>\n",
       "<text text-anchor=\"middle\" x=\"208.5\" y=\"-12.57\" font-family=\"Times New Roman,serif\" font-size=\"14.00\">leaf=0.284804642</text>\n",
       "</g>\n",
       "<!-- 1&#45;&gt;4 -->\n",
       "<g id=\"edge4\" class=\"edge\">\n",
       "<title>1&#45;&gt;4</title>\n",
       "<path fill=\"none\" stroke=\"#ff0000\" d=\"M208.5,-87.4C208.5,-75.89 208.5,-60.53 208.5,-47.28\"/>\n",
       "<polygon fill=\"#ff0000\" stroke=\"#ff0000\" points=\"212,-47.33 208.5,-37.33 205,-47.33 212,-47.33\"/>\n",
       "<text text-anchor=\"middle\" x=\"215.62\" y=\"-56.45\" font-family=\"Times New Roman,serif\" font-size=\"14.00\">no</text>\n",
       "</g>\n",
       "<!-- 5 -->\n",
       "<g id=\"node6\" class=\"node\">\n",
       "<title>5</title>\n",
       "<polygon fill=\"#e48038\" stroke=\"black\" points=\"405.38,-36 283.62,-36 283.62,0 405.38,0 405.38,-36\"/>\n",
       "<text text-anchor=\"middle\" x=\"344.5\" y=\"-12.57\" font-family=\"Times New Roman,serif\" font-size=\"14.00\">leaf=0.0115662655</text>\n",
       "</g>\n",
       "<!-- 2&#45;&gt;5 -->\n",
       "<g id=\"edge5\" class=\"edge\">\n",
       "<title>2&#45;&gt;5</title>\n",
       "<path fill=\"none\" stroke=\"#0000ff\" d=\"M344.5,-87.4C344.5,-75.89 344.5,-60.53 344.5,-47.28\"/>\n",
       "<polygon fill=\"#0000ff\" stroke=\"#0000ff\" points=\"348,-47.33 344.5,-37.33 341,-47.33 348,-47.33\"/>\n",
       "<text text-anchor=\"middle\" x=\"378.62\" y=\"-56.45\" font-family=\"Times New Roman,serif\" font-size=\"14.00\">yes, missing</text>\n",
       "</g>\n",
       "<!-- 6 -->\n",
       "<g id=\"node7\" class=\"node\">\n",
       "<title>6</title>\n",
       "<polygon fill=\"#e48038\" stroke=\"black\" points=\"543.25,-36 423.75,-36 423.75,0 543.25,0 543.25,-36\"/>\n",
       "<text text-anchor=\"middle\" x=\"483.5\" y=\"-12.57\" font-family=\"Times New Roman,serif\" font-size=\"14.00\">leaf=&#45;0.195000008</text>\n",
       "</g>\n",
       "<!-- 2&#45;&gt;6 -->\n",
       "<g id=\"edge6\" class=\"edge\">\n",
       "<title>2&#45;&gt;6</title>\n",
       "<path fill=\"none\" stroke=\"#ff0000\" d=\"M383.73,-87.4C394.58,-82.14 406.19,-76.07 416.5,-69.75 429.48,-61.78 443.02,-51.87 454.5,-42.93\"/>\n",
       "<polygon fill=\"#ff0000\" stroke=\"#ff0000\" points=\"456.17,-45.29 461.83,-36.33 451.82,-39.8 456.17,-45.29\"/>\n",
       "<text text-anchor=\"middle\" x=\"445.62\" y=\"-56.45\" font-family=\"Times New Roman,serif\" font-size=\"14.00\">no</text>\n",
       "</g>\n",
       "</g>\n",
       "</svg>\n"
      ],
      "text/plain": [
       "<graphviz.sources.Source at 0x2aef9b5c850>"
      ]
     },
     "execution_count": 30,
     "metadata": {},
     "output_type": "execute_result"
    }
   ],
   "source": [
    "clf_xgb = xgb.XGBClassifier(objective = 'binary:logistic',\n",
    "                            gamma=0.25,\n",
    "                            learning_rate = 0.8,\n",
    "                            max_depth = 2,\n",
    "                            reg_lambda = 100,\n",
    "                            scale_pos_weight = 3,\n",
    "                            subsample = 0.9,\n",
    "                            colsample_bytree=0.5,\n",
    "                            n_estimators=1,\n",
    "                            random_state=42)\n",
    "\n",
    "clf_xgb.fit(X_train, y_train)\n",
    "\n",
    "bst = clf_xgb.get_booster()\n",
    "for importance_type in ('weight', 'gain', 'cover', 'total_gain', 'total_cover'):\n",
    "    print('%s: ' % importance_type, bst.get_score(importance_type=importance_type))\n",
    "    \n",
    "node_params = {'shape': 'box',\n",
    "                'style': 'filled, rounded',\n",
    "                'fillcolor': '#78cbe'}\n",
    "leaf_params = {'shape': 'box',\n",
    "                'style': 'filled',\n",
    "                'fillcolor': '#e48038'}\n",
    "    \n",
    "xgb.to_graphviz(clf_xgb, num_trees=0, size=\"10,10\",\n",
    "                condition_node_params=node_params,\n",
    "                leaf_node_params=leaf_params)\n",
    "    \n",
    "#to save the figure\n",
    "# gragh_data = xgb.to_graghviz(clf_xgb, num_trees=0, size=\"10,10\",\n",
    "#                condition_node_params=node_params,\n",
    "#                leaf_node_params=leaf_params)\n",
    "#save as pdf\n",
    "# gragh_data.view(filename='xgboost_tree')"
   ]
  },
  {
   "cell_type": "markdown",
   "id": "e7808196",
   "metadata": {},
   "source": [
    "## prediction"
   ]
  },
  {
   "cell_type": "code",
   "execution_count": 31,
   "id": "4dde1c0d",
   "metadata": {},
   "outputs": [],
   "source": [
    "a=std_scaler.transform(np.array([[2,50,12500,98]]))"
   ]
  },
  {
   "cell_type": "code",
   "execution_count": 32,
   "id": "19cb473a",
   "metadata": {},
   "outputs": [],
   "source": [
    "b=std_scaler.transform(np.array([[1, 24, 6000, 77]]))"
   ]
  },
  {
   "cell_type": "code",
   "execution_count": 33,
   "id": "34d73a82",
   "metadata": {},
   "outputs": [
    {
     "data": {
      "text/plain": [
       "array([1])"
      ]
     },
     "execution_count": 33,
     "metadata": {},
     "output_type": "execute_result"
    }
   ],
   "source": [
    "clf_xgb.predict(a)"
   ]
  },
  {
   "cell_type": "code",
   "execution_count": 34,
   "id": "a607a9db",
   "metadata": {},
   "outputs": [
    {
     "data": {
      "text/plain": [
       "array([0])"
      ]
     },
     "execution_count": 34,
     "metadata": {},
     "output_type": "execute_result"
    }
   ],
   "source": [
    "clf_xgb.predict(b)"
   ]
  },
  {
   "cell_type": "code",
   "execution_count": 35,
   "id": "862a5149",
   "metadata": {},
   "outputs": [
    {
     "data": {
      "text/plain": [
       "(1, 4)"
      ]
     },
     "execution_count": 35,
     "metadata": {},
     "output_type": "execute_result"
    }
   ],
   "source": [
    "a.shape"
   ]
  },
  {
   "cell_type": "markdown",
   "id": "88f0d774",
   "metadata": {},
   "source": [
    "## Export the model"
   ]
  },
  {
   "cell_type": "code",
   "execution_count": 36,
   "id": "0fc22e5f",
   "metadata": {},
   "outputs": [
    {
     "data": {
      "text/plain": [
       "['final_model.sav']"
      ]
     },
     "execution_count": 36,
     "metadata": {},
     "output_type": "execute_result"
    }
   ],
   "source": [
    "filename = 'final_model.sav'\n",
    "joblib.dump((clf_xgb, std_scaler), filename)"
   ]
  },
  {
   "cell_type": "code",
   "execution_count": null,
   "id": "472fc364",
   "metadata": {},
   "outputs": [],
   "source": []
  }
 ],
 "metadata": {
  "kernelspec": {
   "display_name": "Python 3 (ipykernel)",
   "language": "python",
   "name": "python3"
  },
  "language_info": {
   "codemirror_mode": {
    "name": "ipython",
    "version": 3
   },
   "file_extension": ".py",
   "mimetype": "text/x-python",
   "name": "python",
   "nbconvert_exporter": "python",
   "pygments_lexer": "ipython3",
   "version": "3.9.12"
  }
 },
 "nbformat": 4,
 "nbformat_minor": 5
}
